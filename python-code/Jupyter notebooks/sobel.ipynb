{
 "cells": [
  {
   "cell_type": "code",
   "execution_count": 8,
   "metadata": {},
   "outputs": [],
   "source": [
    "import numpy as np\n",
    "import zarr\n",
    "import hnswlib\n",
    "import numpy as np\n",
    "import zarr\n",
    "from sklearn.neighbors import KNeighborsClassifier\n",
    "import time\n",
    "import numpy as np\n",
    "from annoy import AnnoyIndex\n",
    "import fastcluster\n",
    "import torch\n",
    "import numpy as np\n",
    "from scipy import ndimage\n",
    "import matplotlib.pyplot as plt\n",
    "\n",
    "# Load your zarr file. Assuming the file contains two arrays: 'volume' and 'labels'\n",
    "# Here we open in read mode. Adjust the path as needed.\n",
    "store = zarr.open(\"D:\\Sync\\Capstone\\\\10\\\\volume.zarr\", mode='r')\n",
    "image_volume = store['volume'][:]  # Shape: (D, H, W)\n",
    "seed_labels = store['labels'][:]   # Shape: (D, H, W)"
   ]
  },
  {
   "cell_type": "code",
   "execution_count": 9,
   "metadata": {},
   "outputs": [],
   "source": [
    "# Apply Sobel filter along x-axis\n",
    "sobel_x = ndimage.sobel(image_volume, axis=2)\n",
    "\n",
    "# Apply Sobel filter along y-axis\n",
    "sobel_y = ndimage.sobel(image_volume, axis=1)\n",
    "\n",
    "# Apply Sobel filter along z-axis\n",
    "sobel_z = ndimage.sobel(image_volume, axis=0)\n",
    "\n",
    "grad_magnitude = np.sqrt(sobel_x**2 + sobel_y**2 + sobel_z**2)\n"
   ]
  },
  {
   "cell_type": "code",
   "execution_count": 10,
   "metadata": {},
   "outputs": [],
   "source": [
    "to_save = zarr.open(\"D:\\Sync\\Capstone\\\\10\\\\volume.zarr\", mode='a')\n",
    "to_save[\"sobel_x\"] = sobel_x \n",
    "to_save[\"sobel_y\"] = sobel_y \n",
    "to_save[\"sobel_z\"] = sobel_z \n",
    "to_save[\"grad_magnitude\"] = grad_magnitude"
   ]
  }
 ],
 "metadata": {
  "kernelspec": {
   "display_name": "base",
   "language": "python",
   "name": "python3"
  },
  "language_info": {
   "codemirror_mode": {
    "name": "ipython",
    "version": 3
   },
   "file_extension": ".py",
   "mimetype": "text/x-python",
   "name": "python",
   "nbconvert_exporter": "python",
   "pygments_lexer": "ipython3",
   "version": "3.10.15"
  }
 },
 "nbformat": 4,
 "nbformat_minor": 2
}
